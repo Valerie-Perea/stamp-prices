{
  "nbformat": 4,
  "nbformat_minor": 0,
  "metadata": {
    "colab": {
      "provenance": [],
      "toc_visible": true,
      "include_colab_link": true
    },
    "kernelspec": {
      "name": "python3",
      "display_name": "Python 3"
    },
    "language_info": {
      "name": "python"
    }
  },
  "cells": [
    {
      "cell_type": "markdown",
      "metadata": {
        "id": "view-in-github",
        "colab_type": "text"
      },
      "source": [
        "<a href=\"https://colab.research.google.com/github/Valerie-Perea/stamp-prices/blob/main/project_blank_template.ipynb\" target=\"_parent\"><img src=\"https://colab.research.google.com/assets/colab-badge.svg\" alt=\"Open In Colab\"/></a>"
      ]
    },
    {
      "cell_type": "markdown",
      "source": [
        "# Project Title"
      ],
      "metadata": {
        "id": "cJG_e1vK2NMI"
      }
    },
    {
      "cell_type": "markdown",
      "source": [
        "## Problem Definition\n"
      ],
      "metadata": {
        "id": "Ugnt7mjT2Pyt"
      }
    },
    {
      "cell_type": "markdown",
      "source": [
        "State the business problem. Translate the business problem into a Data Science problem by stating what kind of problem it is ( supervised vs unsupervised ) and whether it is a classification, regression, or clustering problem."
      ],
      "metadata": {
        "id": "DJB41zc-2q-w"
      }
    },
    {
      "cell_type": "markdown",
      "source": [
        "## Data Collection/Sources\n"
      ],
      "metadata": {
        "id": "jaq46wHS2Uh1"
      }
    },
    {
      "cell_type": "code",
      "source": [],
      "metadata": {
        "id": "mNOARr9i2qW8"
      },
      "execution_count": null,
      "outputs": []
    },
    {
      "cell_type": "markdown",
      "source": [
        "## Data Cleaning\n"
      ],
      "metadata": {
        "id": "kvTak8Ka2db2"
      }
    },
    {
      "cell_type": "code",
      "source": [],
      "metadata": {
        "id": "k4Q6cbo42paj"
      },
      "execution_count": null,
      "outputs": []
    },
    {
      "cell_type": "markdown",
      "source": [
        "## Exploratory Data Analysis\n"
      ],
      "metadata": {
        "id": "Gvh5r9Zs2fkc"
      }
    },
    {
      "cell_type": "code",
      "source": [],
      "metadata": {
        "id": "2Efloab12ouN"
      },
      "execution_count": null,
      "outputs": []
    },
    {
      "cell_type": "markdown",
      "source": [
        "## Processing\n"
      ],
      "metadata": {
        "id": "Ij_fgEbh2hVk"
      }
    },
    {
      "cell_type": "code",
      "source": [],
      "metadata": {
        "id": "Z1w1e2SH2oOk"
      },
      "execution_count": null,
      "outputs": []
    },
    {
      "cell_type": "markdown",
      "source": [
        "## Data Visualization/Communication of Results\n"
      ],
      "metadata": {
        "id": "gjDTKyc12jR7"
      }
    },
    {
      "cell_type": "code",
      "source": [],
      "metadata": {
        "id": "IlNH7PFy2k9-"
      },
      "execution_count": null,
      "outputs": []
    }
  ]
}